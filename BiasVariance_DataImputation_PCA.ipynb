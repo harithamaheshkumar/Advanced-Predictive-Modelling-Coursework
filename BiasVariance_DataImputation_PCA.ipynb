{
 "cells": [
  {
   "cell_type": "markdown",
   "metadata": {},
   "source": [
    "\n",
    "# <p style=\"text-align: center;\">MIS 382N: ADVANCED PREDICTIVE MODELING - MSBA</p>\n",
    "# <p style=\"text-align: center;\">Assignment 2</p>\n",
    "## <p style=\"text-align: center;\">Total points: 85 </p>\n",
    "## <p style=\"text-align: center;\">Due: Thursday, October 3rd, submitted via Canvas by 11:59 pm</p>\n",
    "\n",
    "Your homework should be written in a **Jupyter notebook**. You may work in groups of two if you wish. Your partner needs to be from the same section. Only one student per team needs to submit the assignment on Canvas.  But be sure to include name and UTEID for both students.  Homework groups will be created and managed through Canvas, so please do not arbitrarily change your homework group. If you do change, let the TA know. \n",
    "\n",
    "Also, please make sure your code runs and the graphics (and anything else) are displayed in your notebook before submitting. (%matplotlib inline)"
   ]
  },
  {
   "cell_type": "markdown",
   "metadata": {},
   "source": [
    "# Question 1. Bias-variance (30pts)\n",
    "Use the following code to read in a small set of data and divide it into training and testing sets. Inputs are x; outputs are y."
   ]
  },
  {
   "cell_type": "code",
   "execution_count": 1,
   "metadata": {},
   "outputs": [
    {
     "name": "stdout",
     "output_type": "stream",
     "text": [
      "Populating the interactive namespace from numpy and matplotlib\n",
      "[[ -9.2770254 ]\n",
      " [-13.81999642]\n",
      " [-39.91175409]\n",
      " [  5.99240036]\n",
      " [-23.50183192]]\n"
     ]
    }
   ],
   "source": [
    "import numpy as np\n",
    "np.random.seed(11)\n",
    "%pylab inline\n",
    "x_train = np.loadtxt(\"X_q0_train.csv\").reshape(-1,1)\n",
    "y_train = np.loadtxt(\"Y_q0_train.csv\").reshape(-1,1)\n",
    "x_test = np.loadtxt(\"X_q0_test.csv\").reshape(-1,1)\n",
    "y_test = np.loadtxt(\"Y_q0_test.csv\").reshape(-1,1)\n",
    "x_all = np.linspace(-10,10,101).reshape(-1,1)\n",
    "\n",
    "print (y_train [:5])"
   ]
  },
  {
   "cell_type": "markdown",
   "metadata": {},
   "source": [
    "We want to build a model that can predict y for unknown inputs x.\n",
    "\n",
    "(a) (10pts) Fit a linear model to the training data, and report mean squared error on the test data. Plot the data (y_train vs x_train and y_test vs x_test), fitted model (prediction on x_all vs x_all), and predictions on the test set (prediction on x_test vs x_test), clearly denoting the training, testing, and predicted points. All the plots must be in the same figure and be clearly labeled.\n",
    "\n",
    "(b) (15pts) Fit polynomial models of degrees 2, 3 and 4, and the two given MLP Regression models (these two models will run for a different number of iterations when you fit them) to the training data. Report mean squared error (on both train and test sets) for all the models. Plot the data (y_train vs x_train and y_test vs x_test), the fitted models (prediction on x_all by different models vs x_all), and the predictions on the test set (prediction on x_test by different models vs x_test). All the plots must be in the same figure and be clearly labeled.\n",
    "\n",
    "(c) (5pts) Which of the polynomial models performed the best? Explain using the bias-variance tradeoff.\n"
   ]
  },
  {
   "cell_type": "markdown",
   "metadata": {},
   "source": [
    "### Answers"
   ]
  },
  {
   "cell_type": "markdown",
   "metadata": {},
   "source": [
    "(a) (10pts) Fit a linear model to the training data, and report mean squared error on the test data. Plot the data (y_train vs x_train and y_test vs x_test), fitted model (prediction on x_all vs x_all), and predictions on the test set (prediction on x_test vs x_test), clearly denoting the training, testing, and predicted points. All the plots must be in the same figure and be clearly labeled."
   ]
  },
  {
   "cell_type": "code",
   "execution_count": 2,
   "metadata": {},
   "outputs": [
    {
     "name": "stdout",
     "output_type": "stream",
     "text": [
      "Populating the interactive namespace from numpy and matplotlib\n",
      "Mean squared error on the train data: 966.2629507059396\n",
      "Mean squared error on the test data: 1204.2491913174892\n"
     ]
    },
    {
     "data": {
      "image/png": "[encoded data removed]",
      "text/plain": [
       "<Figure size 432x288 with 1 Axes>"
      ]
     },
     "metadata": {
      "needs_background": "light"
     },
     "output_type": "display_data"
    }
   ],
   "source": [
    "##Importing required packages\n",
    "import numpy as np\n",
    "from sklearn import linear_model\n",
    "from sklearn.metrics import mean_squared_error\n",
    "from sklearn.neural_network import MLPRegressor\n",
    "from sklearn.preprocessing import PolynomialFeatures\n",
    "import pandas as pd\n",
    "from sklearn.model_selection import train_test_split\n",
    "from sklearn.metrics import mean_absolute_error\n",
    "import matplotlib.pyplot as plt\n",
    "%pylab inline\n",
    "\n",
    "#Assigning linear regression model to a variable\n",
    "reg = linear_model.LinearRegression()\n",
    "\n",
    "#Model training\n",
    "model_train = reg.fit(x_train,y_train)\n",
    "\n",
    "#Predict on the train data\n",
    "y_pred_train = reg.predict(x_train)\n",
    "print (\"Mean squared error on the train data: \" + str(mean_squared_error(y_train,y_pred_train)))\n",
    "\n",
    "#Predict on the test data\n",
    "y_pred_test = reg.predict(x_test)\n",
    "print (\"Mean squared error on the test data: \" + str(mean_squared_error(y_test,y_pred_test)))\n",
    "\n",
    "#Predict on the entire dataset (x_all)\n",
    "y_pred_all = reg.predict(x_all)\n",
    "\n",
    "#Plotting the required graphs\n",
    "plot(x_train, y_train, marker='o', color='blue', linestyle='none', label = 'y_train vs x_train')\n",
    "plot(x_test, y_test, marker='o', color='green', linestyle='none', label = 'y_test vs x_test')\n",
    "plot(x_all, y_pred_all, marker='o', color='red', linestyle='none', label = 'y_all vs x_all - Prediction')\n",
    "plot(x_test, y_pred_test, marker='o', color='orange', linestyle='none', label = 'y_pred_test vs x_pred_test - Prediction')\n",
    "xlabel('X values')\n",
    "ylabel('Y values')\n",
    "title ('Y Vs X - Prediction Vs Actuals Comparison')\n",
    "legend(numpoints=3, loc='best')\n",
    "show()"
   ]
  },
  {
   "cell_type": "markdown",
   "metadata": {},
   "source": [
    "(b) Fit polynomial models of degrees 2, 3 and 4, and the two given MLP Regression models (these two models will run for a different number of iterations when you fit them) to the training data. Report mean squared error (on both train and test sets) for all the models. Plot the data (y_train vs x_train and y_test vs x_test), the fitted models (prediction on x_all by different models vs x_all), and the predictions on the test set (prediction on x_test by different models vs x_test). All the plots must be in the same figure and be clearly labeled."
   ]
  },
  {
   "cell_type": "code",
   "execution_count": 3,
   "metadata": {},
   "outputs": [],
   "source": [
    "#MLP Regression models for (b)\n",
    "mlp_1 = MLPRegressor(hidden_layer_sizes=100, alpha=0.001, max_iter=2000, activation='tanh')\n",
    "mlp_2 = MLPRegressor(hidden_layer_sizes=100, alpha=0.001, max_iter=200,  activation='tanh')"
   ]
  },
  {
   "cell_type": "code",
   "execution_count": 4,
   "metadata": {},
   "outputs": [],
   "source": [
    "def poly_lr(degree):\n",
    "    polynomial = PolynomialFeatures(degree = degree) \n",
    "    x_polynomial = polynomial.fit_transform(x_train) \n",
    "    poly = linear_model.LinearRegression() \n",
    "    poly.fit(x_polynomial, y_train) \n",
    "    MSE_train = mean_squared_error(y_train, poly.predict(x_polynomial))\n",
    "    x_polynomial_test = polynomial.fit_transform(x_test)\n",
    "    predict_test = poly.predict(x_polynomial_test)\n",
    "    MSE_test = mean_squared_error(y_test, predict_test)\n",
    "    x_polynomial_all = polynomial.fit_transform(x_all)\n",
    "    predict_xall = poly.predict(x_polynomial_all)\n",
    "    return MSE_train, MSE_test, predict_xall, predict_test\n"
   ]
  },
  {
   "cell_type": "code",
   "execution_count": 5,
   "metadata": {},
   "outputs": [
    {
     "name": "stderr",
     "output_type": "stream",
     "text": [
      "C:\\Users\\harit\\Anaconda2\\lib\\site-packages\\sklearn\\neural_network\\multilayer_perceptron.py:1316: DataConversionWarning: A column-vector y was passed when a 1d array was expected. Please change the shape of y to (n_samples, ), for example using ravel().\n",
      "  y = column_or_1d(y, warn=True)\n",
      "C:\\Users\\harit\\Anaconda2\\lib\\site-packages\\sklearn\\neural_network\\multilayer_perceptron.py:562: ConvergenceWarning: Stochastic Optimizer: Maximum iterations (2000) reached and the optimization hasn't converged yet.\n",
      "  % self.max_iter, ConvergenceWarning)\n",
      "C:\\Users\\harit\\Anaconda2\\lib\\site-packages\\sklearn\\neural_network\\multilayer_perceptron.py:562: ConvergenceWarning: Stochastic Optimizer: Maximum iterations (200) reached and the optimization hasn't converged yet.\n",
      "  % self.max_iter, ConvergenceWarning)\n"
     ]
    }
   ],
   "source": [
    "mlp_1 = MLPRegressor(hidden_layer_sizes=100, alpha=0.001, max_iter=2000, activation='tanh')\n",
    "mlp_1.fit(x_train, y_train)\n",
    "MSE_train_mlp1 = mean_squared_error(y_train, mlp_1.predict(x_train))\n",
    "predict_test_mlp1 = mlp_1.predict(x_test)\n",
    "MSE_test_mlp1 = mean_squared_error(y_test, predict_test_mlp1)\n",
    "predict_all_mlp1 = mlp_1.predict(x_all)\n",
    "\n",
    "mlp_2 = MLPRegressor(hidden_layer_sizes=100, alpha=0.001, max_iter=200,  activation='tanh')\n",
    "mlp_2.fit(x_train, y_train)\n",
    "MSE_train_mlp2 = mean_squared_error(y_train, mlp_2.predict(x_train))\n",
    "predict_test_mlp2 = mlp_2.predict(x_test)\n",
    "MSE_test_mlp2 = mean_squared_error(y_test, predict_test_mlp2)\n",
    "predict_all_mlp2 = mlp_2.predict(x_all)"
   ]
  },
  {
   "cell_type": "code",
   "execution_count": 6,
   "metadata": {},
   "outputs": [
    {
     "name": "stdout",
     "output_type": "stream",
     "text": [
      "The train errors are\n",
      "Poly 2: 959.5190206385591\n",
      "Poly 3: 624.5354778268198\n",
      "Poly 4: 622.4127493286283\n",
      "MLP 1: 647.2281467598511\n",
      "MLP 2: 1029.3514306571046\n",
      "\n",
      "The test errors are\n",
      "Poly 2: 1276.3920769678755\n",
      "Poly 3: 1152.28399170982\n",
      "Poly 4: 1183.1992247368405\n",
      "MLP 1: 1098.8196621363998\n",
      "MLP 2: 1442.660019846679\n",
      "\n"
     ]
    },
    {
     "data": {
      "text/plain": [
       "<matplotlib.legend.Legend at 0xdf9b898>"
      ]
     },
     "execution_count": 6,
     "metadata": {},
     "output_type": "execute_result"
    },
    {
     "data": {
      "image/png": "[encoded data removed]",
      "text/plain": [
       "<Figure size 1152x288 with 4 Axes>"
      ]
     },
     "metadata": {
      "needs_background": "light"
     },
     "output_type": "display_data"
    },
    {
     "data": {
      "image/png": "[encoded data removed]",
      "text/plain": [
       "<Figure size 1152x288 with 1 Axes>"
      ]
     },
     "metadata": {
      "needs_background": "light"
     },
     "output_type": "display_data"
    }
   ],
   "source": [
    "print (\"The train errors are\")\n",
    "print (\"Poly 2: \"+str(poly_lr(2)[0]))\n",
    "print (\"Poly 3: \"+str(poly_lr(3)[0]))\n",
    "print (\"Poly 4: \"+str(poly_lr(4)[0]))\n",
    "print (\"MLP 1: \"+str(MSE_train_mlp1))\n",
    "print (\"MLP 2: \"+str(MSE_train_mlp2))\n",
    "print\n",
    "print (\"The test errors are\")\n",
    "print (\"Poly 2: \"+str(poly_lr(2)[1]))\n",
    "print (\"Poly 3: \"+str(poly_lr(3)[1]))\n",
    "print (\"Poly 4: \"+str(poly_lr(4)[1]))\n",
    "print (\"MLP 1: \"+str(MSE_test_mlp1))\n",
    "print (\"MLP 2: \"+str(MSE_test_mlp2))\n",
    "print\n",
    "\n",
    "fig, (ax1, ax2, ax3, ax4) = subplots(nrows=1,\n",
    "                                ncols=4,\n",
    "                                sharex=True,\n",
    "                                sharey=True,\n",
    "                                figsize=(16,4))\n",
    "\n",
    "ax1.scatter(x=x_train, y=y_train)\n",
    "ax1.set_title('y_train vs x_train')\n",
    "ax1.set_xlabel('x_train')\n",
    "ax1.set_ylabel('y_train')\n",
    "\n",
    "ax2.scatter(x=x_test, y=y_test)\n",
    "ax2.set_title('y_test vs x_test')\n",
    "ax2.set_xlabel('x_test')\n",
    "ax2.set_ylabel('y_test')\n",
    "\n",
    "ax3.scatter(x=x_all, y=poly_lr(2)[2])\n",
    "ax3.scatter(x=x_all, y=poly_lr(3)[2])\n",
    "ax3.scatter(x=x_all, y=poly_lr(4)[2])\n",
    "ax3.scatter(x=x_all, y=predict_all_mlp1)\n",
    "ax3.scatter(x=x_all, y=predict_all_mlp2)\n",
    "ax3.set_title('fitted model')\n",
    "ax3.set_xlabel('x_all')\n",
    "\n",
    "\n",
    "ax4.scatter(x=x_test, y=poly_lr(2)[3])\n",
    "ax4.scatter(x=x_test, y=poly_lr(3)[3])\n",
    "ax4.scatter(x=x_test, y=poly_lr(4)[3])\n",
    "ax4.scatter(x=x_test, y=predict_test_mlp1)\n",
    "ax4.scatter(x=x_test, y=predict_test_mlp2)\n",
    "ax4.set_title('fitted model')\n",
    "ax4.set_xlabel('x_test')\n",
    "\n",
    "fig, (ax5) = subplots(nrows=1, ncols=1, sharex=True, sharey=True,\n",
    "                                figsize=(16,4))\n",
    "\n",
    "ax5.scatter(x=x_train, y=y_train, label='x_train vs y_train')\n",
    "ax5.scatter(x=x_test, y=y_test, label='x_test vs y_test')\n",
    "ax5.scatter(x=x_all, y=poly_lr(2)[2], label='2nd degree polynomial')\n",
    "ax5.scatter(x=x_all, y=poly_lr(3)[2], label='3rd degree polynomial')\n",
    "ax5.scatter(x=x_all, y=poly_lr(4)[2], label='4th degree polynomial')\n",
    "ax5.scatter(x=x_all, y=predict_all_mlp1, label='MLP1')\n",
    "ax5.scatter(x=x_all, y=predict_all_mlp2, label='MLP2')\n",
    "ax5.scatter(x=x_test, y=poly_lr(2)[3])\n",
    "ax5.scatter(x=x_test, y=poly_lr(3)[3])\n",
    "ax5.scatter(x=x_test, y=poly_lr(4)[3])\n",
    "ax5.scatter(x=x_test, y=predict_test_mlp1)\n",
    "ax5.scatter(x=x_test, y=predict_test_mlp2)\n",
    "ax5.legend()"
   ]
  },
  {
   "cell_type": "markdown",
   "metadata": {},
   "source": [
    "(c) Which of the polynomial models performed the best? Explain using the bias-variance tradeoff."
   ]
  },
  {
   "cell_type": "markdown",
   "metadata": {},
   "source": [
    "The second degree polynomial model performs the best as it has the best bias-variance measure. \n",
    "\n",
    "MLP1, Third order and Fourth order polynomials, have lower error when compared to the second degree model, but their out of sample (test) errors are much higher. Second order still has the second highest OOS error, but it has a relatively better bias-variance tradeoff as the difference between train and test errors is the least amongst all the models."
   ]
  },
  {
   "cell_type": "markdown",
   "metadata": {},
   "source": [
    "# Question 2. Number of data points required for Linear Regression (30pts)"
   ]
  },
  {
   "cell_type": "markdown",
   "metadata": {},
   "source": [
    "In this question, we will explore empirically estimating a known data distribution. Let the data be generated by the probabilistic model $y_i = w^T x_i + \\epsilon$. Here $x$ is 10 dimensional, and it's features are uniformly drawn values from $0$ to $1$. The true coefficients $w$ are set to be $1, 2, 3, \\dots, 10$. Epsilon is drawn from a 0 mean unit variance normal distribution. We can now estimate these true coefficients by using linear regression on sample data points from the distribution. \n",
    "\n",
    "1. Generate 100 sample points $(x, y)$ according to the above distribution. Use the [np.matmul](https://docs.scipy.org/doc/numpy/reference/generated/numpy.matmul.html) function. (2pts)\n",
    "2. Fit a linear regression model through the above data and report the MSE. (3 pts)\n",
    "3. Generate 50 sample points $(x, y)$ to be the test set. Now, generate different amounts of train data points ranging from 20 data points to 1000 data points (intervals of 1) and plot how the MSE varies with increasing the train data. At the point where the MSE is minimum, print the corresponding coefficients. (10pts)\n",
    "4. In this question, since we know the true coefficients, we can investigate how close the estimated coefficients are to the true coefficients. We will use $MSE(coefficients)$ which is MSE between the true coefficients and the estimated coefficients as the metric to see how close the estimated coefficients are to the true coefficients; this is not to be confused with the MSE between the predicted $y$ and the true $y$ which is commonly used. Hence, $MSE(coefficients) = \\frac{1}{num\\_coefficients}\\sum_{i=1}^{num\\_coefficients} (\\theta_i - \\hat{\\theta}_i)^2$ where $\\theta_i$ are the true coefficients and $\\hat{\\theta}_i$ are the estimated coefficients.\n",
    "Using the $MSE(coefficients)$ as the metric, about how many data points are required to have $MSE(coefficients)$ < 0.01? (run this for 10 trials and report the average number of data points it takes). Now, use only the first three coefficients, generate $x$ which is 3 dimensional (instead of 10 dimensional as before) and the corresponding $y$ for each $x$. In this case, when $x$ is three dimensional, how many data points are required to have $MSE(coefficients)$ < 0.01? (run this for 10 trials and report the average number of data points it takes).(15pts)\n"
   ]
  },
  {
   "cell_type": "code",
   "execution_count": 7,
   "metadata": {},
   "outputs": [],
   "source": [
    "#some useful code\n",
    "# w_true = np.arange(10)+1\n",
    "# x = np.random.uniform(size=(n, 10))\n",
    "# e = np.random.normal(size=(n))\n",
    "\n",
    "\n",
    "#for (30)\n",
    "#use - \n",
    "#for num_data_points in range(20, 1001):\n",
    "\n",
    "#for 5) the following code is useful:\n",
    "# w_true_3 = w_true[0:3]\n",
    "# x_3_dimensional = np.random.uniform(size=(n, 3))"
   ]
  },
  {
   "cell_type": "markdown",
   "metadata": {},
   "source": [
    "1.Generate 100 sample points  (𝑥,𝑦)  according to the above distribution. Use the np.matmul function. (2pts)"
   ]
  },
  {
   "cell_type": "code",
   "execution_count": 8,
   "metadata": {},
   "outputs": [
    {
     "data": {
      "text/plain": [
       "array([19.38099011, 35.63238016, 27.58060541, 29.2977313 , 23.53961707,\n",
       "       27.2646857 , 30.84026252, 28.45914144, 25.83562963, 16.09986568,\n",
       "       22.62686844, 29.45676961, 23.17151091, 30.65449363, 32.83906022,\n",
       "       34.18347622, 14.49352747, 35.10844871, 18.71208181, 17.42163153,\n",
       "       29.53762095, 32.51211778, 21.08306599, 15.6138506 , 22.23709357,\n",
       "       26.4398436 , 29.0443382 , 25.1098838 , 23.70761113, 37.75413441,\n",
       "       21.45354888, 31.24509078, 29.24709424, 20.95725797, 31.6150098 ,\n",
       "       30.91436511, 31.19547266, 24.91109097, 22.76688626, 35.26418506,\n",
       "       32.44015665, 29.93383544, 24.36294668, 33.98501009, 26.79687888,\n",
       "       24.17121664, 39.59057133, 32.08618487, 30.3079465 , 23.26910464,\n",
       "       30.64513322, 38.89617111, 30.2890551 , 27.72729548, 27.60628129,\n",
       "       21.56014257, 35.52857563, 24.19967581, 21.65264477, 34.4696578 ,\n",
       "       22.01900253, 27.05716672, 27.02484742, 15.20950887, 40.58258512,\n",
       "       28.86187476, 25.52145208, 34.43758608, 36.5413295 , 28.36306531,\n",
       "       26.35391359, 17.19626778, 32.53234541, 29.35306841, 23.02539456,\n",
       "       28.07142242, 29.1223842 , 30.01648227, 16.61438184, 23.39343743,\n",
       "       24.94134866, 27.14793448, 21.3891396 , 21.47844504, 36.40941056,\n",
       "       18.95266071, 29.06453892, 28.82015252, 29.06468942, 23.49078749,\n",
       "       34.17169782, 27.89119211, 24.26921   , 28.19412052, 25.70111432,\n",
       "       23.5713652 , 25.39585018, 29.39797015, 30.22284444, 20.73971437])"
      ]
     },
     "execution_count": 8,
     "metadata": {},
     "output_type": "execute_result"
    }
   ],
   "source": [
    "#Generate 100 sample points (𝑥,𝑦) according to the above distribution. Use the np.matmul function. \n",
    "w_true = np.arange(10)+1\n",
    "w_true = numpy.transpose(w_true)\n",
    "x = np.random.uniform(size=(100, 10))\n",
    "e = np.random.normal(size=(100))\n",
    "y = np.matmul(x, w_true) + e\n",
    "y"
   ]
  },
  {
   "cell_type": "markdown",
   "metadata": {},
   "source": [
    "2. Fit a linear regression model through the above data and report the MSE. (3 pts)"
   ]
  },
  {
   "cell_type": "code",
   "execution_count": 9,
   "metadata": {},
   "outputs": [
    {
     "name": "stdout",
     "output_type": "stream",
     "text": [
      "Mean square error: 0.83\n"
     ]
    },
    {
     "data": {
      "text/plain": [
       "array([0.64233296, 2.1258539 , 2.65427618, 4.24489063, 5.32702617,\n",
       "       5.47432342, 6.82100476, 7.67767846, 9.18362309, 9.99083513])"
      ]
     },
     "execution_count": 9,
     "metadata": {},
     "output_type": "execute_result"
    }
   ],
   "source": [
    "# Fit a linear regression model through the above data and report the MSE\n",
    "reg = linear_model.LinearRegression()\n",
    "MLR_1 = reg.fit(x,y)\n",
    "MLR_1_pred = reg.predict(x)\n",
    "print(\"Mean square error: %.2f\"\n",
    "      % mean_squared_error(y, MLR_1_pred))\n",
    "MLR_1.coef_"
   ]
  },
  {
   "cell_type": "markdown",
   "metadata": {},
   "source": [
    "3.Generate 50 sample points  (𝑥,𝑦)  to be the test set. Now, generate different amounts of train data points ranging from 20 data points to 1000 data points (intervals of 1) and plot how the MSE varies with increasing the train data. At the point where the MSE is minimum, print the corresponding coefficients. (10pts)"
   ]
  },
  {
   "cell_type": "code",
   "execution_count": 10,
   "metadata": {},
   "outputs": [
    {
     "name": "stdout",
     "output_type": "stream",
     "text": [
      "  Training_Size       MSE                                               Coef\n",
      "0            20  0.984306  [ 0.64805427  1.4283834   3.46297096  3.613601...\n",
      "1            21  2.205279  [ 1.11739987  1.07103108  4.36385071  1.834045...\n",
      "2            22  0.891088  [1.74050517 2.94132603 3.23962196 3.99005573 4...\n",
      "3            23  1.634161  [-0.71473469  3.94877201  2.84773779  4.187849...\n",
      "4            24  0.850565  [ 0.71546535  0.91000229  2.86496855  5.041445...\n"
     ]
    }
   ],
   "source": [
    "#Generate 50 sample points (𝑥,𝑦) to be the test set. \n",
    "#Now, generate different amounts of train data points ranging from 20 data points to 1000 data points (intervals of 1) and \n",
    "#plot how the MSE varies with increasing the train data. \n",
    "#At the point where the MSE is minimum, print the corresponding coefficients. \n",
    "x_test_points = np.random.uniform(size=(50, 10))\n",
    "y_test_points = np.matmul(x_test_points, w_true) + np.random.normal(size=(50))\n",
    "\n",
    "MSE = pd.DataFrame(columns=['Training_Size', 'MSE', 'Coef'])\n",
    "for i in range(20,1001):\n",
    "    x_train_points = np.random.uniform(size=(i, 10))\n",
    "    y_train_points = np.matmul(x_train_points, w_true) + np.random.normal(size=(i))\n",
    "    reg = linear_model.LinearRegression()\n",
    "    MLR = reg.fit(x_train_points,y_train_points)\n",
    "    test_mse = mean_squared_error(y_test_points, reg.predict(x_test_points))\n",
    "    MSE = MSE.append({'Training_Size': i, 'MSE':test_mse, 'Coef' : str(MLR.coef_)},ignore_index=True)\n",
    "\n",
    "print (MSE.head())"
   ]
  },
  {
   "cell_type": "code",
   "execution_count": 11,
   "metadata": {},
   "outputs": [
    {
     "name": "stdout",
     "output_type": "stream",
     "text": [
      "['[0.62858562 1.92116348 2.8124632  3.99255537 5.05508914 5.78490251\\n 7.04286469 7.86428062 8.9394076  9.79660534]']\n"
     ]
    },
    {
     "data": {
      "image/png": "[encoded data removed]",
      "text/plain": [
       "<Figure size 432x288 with 1 Axes>"
      ]
     },
     "metadata": {
      "needs_background": "light"
     },
     "output_type": "display_data"
    }
   ],
   "source": [
    "plt.scatter(MSE['Training_Size'], MSE['MSE'])\n",
    "\n",
    "print (list(MSE[MSE['MSE'] == min(MSE['MSE'])]['Coef']))"
   ]
  },
  {
   "cell_type": "markdown",
   "metadata": {},
   "source": [
    "4. In this question, since we know the true coefficients, we can investigate how close the estimated coefficients are to the true coefficients. We will use  𝑀𝑆𝐸(𝑐𝑜𝑒𝑓𝑓𝑖𝑐𝑖𝑒𝑛𝑡𝑠)  which is MSE between the true coefficients and the estimated coefficients as the metric to see how close the estimated coefficients are to the true coefficients; this is not to be confused with the MSE between the predicted  𝑦  and the true  𝑦  which is commonly used. Hence,  𝑀𝑆𝐸(𝑐𝑜𝑒𝑓𝑓𝑖𝑐𝑖𝑒𝑛𝑡𝑠)=1𝑛𝑢𝑚_𝑐𝑜𝑒𝑓𝑓𝑖𝑐𝑖𝑒𝑛𝑡𝑠∑𝑛𝑢𝑚_𝑐𝑜𝑒𝑓𝑓𝑖𝑐𝑖𝑒𝑛𝑡𝑠𝑖=1(𝜃𝑖−𝜃̂ 𝑖)2  where  𝜃𝑖  are the true coefficients and  𝜃̂ 𝑖  are the estimated coefficients. Using the  𝑀𝑆𝐸(𝑐𝑜𝑒𝑓𝑓𝑖𝑐𝑖𝑒𝑛𝑡𝑠)  as the metric, about how many data points are required to have  𝑀𝑆𝐸(𝑐𝑜𝑒𝑓𝑓𝑖𝑐𝑖𝑒𝑛𝑡𝑠)  < 0.01? (run this for 10 trials and report the average number of data points it takes). Now, use only the first three coefficients, generate  𝑥  which is 3 dimensional (instead of 10 dimensional as before) and the corresponding  𝑦  for each  𝑥 . In this case, when  𝑥  is three dimensional, how man"
   ]
  },
  {
   "cell_type": "code",
   "execution_count": 12,
   "metadata": {},
   "outputs": [
    {
     "name": "stdout",
     "output_type": "stream",
     "text": [
      "Average data size for MSE_Coefficients to be less than 0.01 is 330.8888888888889\n"
     ]
    }
   ],
   "source": [
    "def No_Data_Points():\n",
    "    MSE_coff = 100\n",
    "    i=1\n",
    "    while MSE_coff>0.01:\n",
    "        x_train_points = np.random.uniform(size=(i, 10))\n",
    "        y_train_points = np.matmul(x_train_points, w_true) + np.random.normal(size=(i))\n",
    "        reg = linear_model.LinearRegression()\n",
    "        MLR2 = reg.fit(x_train_points,y_train_points)\n",
    "        MSE_coff = mean_squared_error(w_true, MLR2.coef_)\n",
    "        i+=1\n",
    "    return i\n",
    "\n",
    "points = []\n",
    "for trials in range(1,10):\n",
    "    points.append(No_Data_Points())\n",
    "print ('Average data size for MSE_Coefficients to be less than 0.01 is ' + str(mean(points)))"
   ]
  },
  {
   "cell_type": "code",
   "execution_count": 13,
   "metadata": {},
   "outputs": [
    {
     "name": "stdout",
     "output_type": "stream",
     "text": [
      "Average data size for MSE_Coefficients to be less than 0.01 is 82.55555555555556\n"
     ]
    }
   ],
   "source": [
    "w_true3 = w_true[0:3]\n",
    "def No_Data_Points():\n",
    "    MSE_coff = 100\n",
    "    i=1\n",
    "    while MSE_coff>0.01:\n",
    "        x_train_points = np.random.uniform(size=(i, 3))\n",
    "        y_train_points = np.matmul(x_train_points, w_true3) + np.random.normal(size=(i))\n",
    "        reg = linear_model.LinearRegression()\n",
    "        MLR3 = reg.fit(x_train_points,y_train_points)\n",
    "        MSE_coff = mean_squared_error(w_true3, MLR3.coef_)\n",
    "        i+=1\n",
    "    return i\n",
    "\n",
    "points = []\n",
    "for trials in range(1,10):\n",
    "    points.append(No_Data_Points())\n",
    "print ('Average data size for MSE_Coefficients to be less than 0.01 is ' + str(mean(points)))"
   ]
  },
  {
   "cell_type": "markdown",
   "metadata": {},
   "source": [
    "# Question 3. Data Imputation Strategies (20pts)\n",
    "\n",
    "The missing value problem is inevitable in predictive modeling and in order to build a useful model, it is important that these missing values are handled appropriately. There could be many reasons for the presence of missing values(represented as NaN in python) in the dataset, like the absence of information corresponding to the variable, failure to record the available value of the variable, some unknown semantics associated with NaN, etc. \n",
    "\n",
    "For the given dataset(file named q3_dataset.csv), fit a Linear Regression model to predict the dependent variable 'ViolentCrimesPerPop'. If you directly try to fit a model you would see an error saying that input contains NaN. So, in order to successfully fit a model, you need to handle these missing values and the performance of your model would depend on how you handle them. \n",
    "\n",
    "Your task is to try different imputation strategies for the different columns having missing values and see what works best. You could try the following -\n",
    "1. Discard rows with missing data\n",
    "2. Fill NaNs with 0s\n",
    "3. Fill NaNs with column mean/mode/median\n",
    "4. Use information from related columns (think of how you could do this)\n",
    "\n",
    "A strategy could work better for one column and not work for another. Briefly justify why do you think that a particular strategy works better than the other.\n",
    "\n",
    "Hint: Think about how do the missing values occur for a particular column like are they random or systematic, do they have any semantics?"
   ]
  },
  {
   "cell_type": "markdown",
   "metadata": {},
   "source": [
    "###### PctEmploy and PctUnemployed\n",
    "The percentage employed and unemployed columns have missing values in 99 rows:\n",
    "\n",
    "(1). They can be imputed in more than one way: Out of the mean, median and mode - median can be a better measure becase\n",
    "a. The mean is hardly a good estimate of a data distribution, unless it is normal. It is a point estimate which could be easily skewed by rest of the data b. Mode may assume that the rows with missing values are similar to the rest of the data and reduce the variance which can be potentially explained\n",
    "\n",
    "(2) The second method maybe using a conditional mean/median using the median income / per capita income. Hypothesis is that the higher income regions are likely to have less unemployed people. A plot can be looked at to directionally validate the hypothesis and then the conditional mean/median can be imputed. \n",
    "\n",
    "Single variable prediction models can be built to check how this changes the accuracy, but since the number of rows is less, this wouldn't affect the accuracy as much. (We validated using a single variable model using each of the methods. Not included here because of redundancy in code). Eventhough there isn't much difference, still going ahead with the conditional mean approach as it does capture more variation (as seen in the sample rows below: Compare PctEmploy_Imp and PctEmploy_Imp2)"
   ]
  },
  {
   "cell_type": "code",
   "execution_count": 14,
   "metadata": {
    "scrolled": true
   },
   "outputs": [],
   "source": [
    "import pandas as pd\n",
    "from sklearn.model_selection import train_test_split\n",
    "from sklearn import linear_model\n",
    "from sklearn.metrics import mean_absolute_error\n",
    "import numpy as np\n",
    "import matplotlib.pyplot as plt\n",
    "\n",
    "dataset = pd.read_csv('q3_dataset.csv')\n",
    "X = dataset.drop(['ViolentCrimesPerPop'],axis=1)\n",
    "Y = dataset['ViolentCrimesPerPop']"
   ]
  },
  {
   "cell_type": "code",
   "execution_count": 15,
   "metadata": {},
   "outputs": [],
   "source": [
    "#Method 1: Substituting the median\n",
    "X_train, X_test, Y_train, Y_test = train_test_split(X,Y,test_size = 0.30, random_state=11)\n",
    "dataset['PctEmploy'].median #0.68\n",
    "dataset['PctEmploy_Imp']=dataset['PctEmploy'].fillna(value=0.68)\n"
   ]
  },
  {
   "cell_type": "code",
   "execution_count": 16,
   "metadata": {},
   "outputs": [
    {
     "name": "stderr",
     "output_type": "stream",
     "text": [
      "C:\\Users\\harit\\Anaconda2\\lib\\site-packages\\ipykernel_launcher.py:12: SettingWithCopyWarning: \n",
      "A value is trying to be set on a copy of a slice from a DataFrame\n",
      "\n",
      "See the caveats in the documentation: http://pandas.pydata.org/pandas-docs/stable/indexing.html#indexing-view-versus-copy\n",
      "  if sys.path[0] == '':\n",
      "C:\\Users\\harit\\Anaconda2\\lib\\site-packages\\ipykernel_launcher.py:13: SettingWithCopyWarning: \n",
      "A value is trying to be set on a copy of a slice from a DataFrame\n",
      "\n",
      "See the caveats in the documentation: http://pandas.pydata.org/pandas-docs/stable/indexing.html#indexing-view-versus-copy\n",
      "  del sys.path[0]\n",
      "C:\\Users\\harit\\Anaconda2\\lib\\site-packages\\ipykernel_launcher.py:14: SettingWithCopyWarning: \n",
      "A value is trying to be set on a copy of a slice from a DataFrame\n",
      "\n",
      "See the caveats in the documentation: http://pandas.pydata.org/pandas-docs/stable/indexing.html#indexing-view-versus-copy\n",
      "  \n",
      "C:\\Users\\harit\\Anaconda2\\lib\\site-packages\\ipykernel_launcher.py:15: SettingWithCopyWarning: \n",
      "A value is trying to be set on a copy of a slice from a DataFrame\n",
      "\n",
      "See the caveats in the documentation: http://pandas.pydata.org/pandas-docs/stable/indexing.html#indexing-view-versus-copy\n",
      "  from ipykernel import kernelapp as app\n"
     ]
    },
    {
     "data": {
      "text/html": [
       "<div>\n",
       "<style scoped>\n",
       "    .dataframe tbody tr th:only-of-type {\n",
       "        vertical-align: middle;\n",
       "    }\n",
       "\n",
       "    .dataframe tbody tr th {\n",
       "        vertical-align: top;\n",
       "    }\n",
       "\n",
       "    .dataframe thead th {\n",
       "        text-align: right;\n",
       "    }\n",
       "</style>\n",
       "<table border=\"1\" class=\"dataframe\">\n",
       "  <thead>\n",
       "    <tr style=\"text-align: right;\">\n",
       "      <th></th>\n",
       "      <th>ViolentCrimesPerPop</th>\n",
       "      <th>PolicBudgPerPop</th>\n",
       "      <th>population</th>\n",
       "      <th>householdsize</th>\n",
       "      <th>numbUrban</th>\n",
       "      <th>pctUrban</th>\n",
       "      <th>medIncome</th>\n",
       "      <th>perCapInc</th>\n",
       "      <th>LandArea</th>\n",
       "      <th>PopDens</th>\n",
       "      <th>PolicCars</th>\n",
       "      <th>PctUnemployed</th>\n",
       "      <th>PctEmploy</th>\n",
       "      <th>PctEmploy_Imp</th>\n",
       "      <th>inc_buck</th>\n",
       "      <th>PctEmploy_Imp2</th>\n",
       "    </tr>\n",
       "  </thead>\n",
       "  <tbody>\n",
       "    <tr>\n",
       "      <th>30</th>\n",
       "      <td>0.16</td>\n",
       "      <td>NaN</td>\n",
       "      <td>0.01</td>\n",
       "      <td>0.30</td>\n",
       "      <td>0.00</td>\n",
       "      <td>0.00</td>\n",
       "      <td>0.16</td>\n",
       "      <td>0.25</td>\n",
       "      <td>0.04</td>\n",
       "      <td>0.07</td>\n",
       "      <td>NaN</td>\n",
       "      <td>NaN</td>\n",
       "      <td>NaN</td>\n",
       "      <td>0.68</td>\n",
       "      <td>(0.0, 0.2]</td>\n",
       "      <td>0.318531</td>\n",
       "    </tr>\n",
       "    <tr>\n",
       "      <th>42</th>\n",
       "      <td>0.80</td>\n",
       "      <td>NaN</td>\n",
       "      <td>0.00</td>\n",
       "      <td>0.45</td>\n",
       "      <td>0.02</td>\n",
       "      <td>1.00</td>\n",
       "      <td>0.16</td>\n",
       "      <td>0.16</td>\n",
       "      <td>0.01</td>\n",
       "      <td>0.30</td>\n",
       "      <td>NaN</td>\n",
       "      <td>NaN</td>\n",
       "      <td>NaN</td>\n",
       "      <td>0.68</td>\n",
       "      <td>(0.0, 0.2]</td>\n",
       "      <td>0.318531</td>\n",
       "    </tr>\n",
       "    <tr>\n",
       "      <th>46</th>\n",
       "      <td>0.20</td>\n",
       "      <td>NaN</td>\n",
       "      <td>0.03</td>\n",
       "      <td>NaN</td>\n",
       "      <td>0.03</td>\n",
       "      <td>0.68</td>\n",
       "      <td>0.47</td>\n",
       "      <td>0.30</td>\n",
       "      <td>0.17</td>\n",
       "      <td>0.04</td>\n",
       "      <td>NaN</td>\n",
       "      <td>NaN</td>\n",
       "      <td>NaN</td>\n",
       "      <td>0.68</td>\n",
       "      <td>(0.32, 0.49]</td>\n",
       "      <td>0.586161</td>\n",
       "    </tr>\n",
       "    <tr>\n",
       "      <th>77</th>\n",
       "      <td>0.68</td>\n",
       "      <td>0.12</td>\n",
       "      <td>0.08</td>\n",
       "      <td>0.43</td>\n",
       "      <td>0.09</td>\n",
       "      <td>0.99</td>\n",
       "      <td>0.11</td>\n",
       "      <td>0.15</td>\n",
       "      <td>0.22</td>\n",
       "      <td>0.06</td>\n",
       "      <td>0.04</td>\n",
       "      <td>NaN</td>\n",
       "      <td>NaN</td>\n",
       "      <td>0.68</td>\n",
       "      <td>(0.0, 0.2]</td>\n",
       "      <td>0.318531</td>\n",
       "    </tr>\n",
       "    <tr>\n",
       "      <th>87</th>\n",
       "      <td>0.10</td>\n",
       "      <td>NaN</td>\n",
       "      <td>0.02</td>\n",
       "      <td>0.04</td>\n",
       "      <td>0.04</td>\n",
       "      <td>1.00</td>\n",
       "      <td>0.35</td>\n",
       "      <td>0.71</td>\n",
       "      <td>0.03</td>\n",
       "      <td>0.18</td>\n",
       "      <td>NaN</td>\n",
       "      <td>NaN</td>\n",
       "      <td>NaN</td>\n",
       "      <td>0.68</td>\n",
       "      <td>(0.32, 0.49]</td>\n",
       "      <td>0.586161</td>\n",
       "    </tr>\n",
       "  </tbody>\n",
       "</table>\n",
       "</div>"
      ],
      "text/plain": [
       "    ViolentCrimesPerPop  PolicBudgPerPop  population  householdsize  \\\n",
       "30                 0.16              NaN        0.01           0.30   \n",
       "42                 0.80              NaN        0.00           0.45   \n",
       "46                 0.20              NaN        0.03            NaN   \n",
       "77                 0.68             0.12        0.08           0.43   \n",
       "87                 0.10              NaN        0.02           0.04   \n",
       "\n",
       "    numbUrban  pctUrban  medIncome  perCapInc  LandArea  PopDens  PolicCars  \\\n",
       "30       0.00      0.00       0.16       0.25      0.04     0.07        NaN   \n",
       "42       0.02      1.00       0.16       0.16      0.01     0.30        NaN   \n",
       "46       0.03      0.68       0.47       0.30      0.17     0.04        NaN   \n",
       "77       0.09      0.99       0.11       0.15      0.22     0.06       0.04   \n",
       "87       0.04      1.00       0.35       0.71      0.03     0.18        NaN   \n",
       "\n",
       "    PctUnemployed  PctEmploy  PctEmploy_Imp      inc_buck  PctEmploy_Imp2  \n",
       "30            NaN        NaN           0.68    (0.0, 0.2]        0.318531  \n",
       "42            NaN        NaN           0.68    (0.0, 0.2]        0.318531  \n",
       "46            NaN        NaN           0.68  (0.32, 0.49]        0.586161  \n",
       "77            NaN        NaN           0.68    (0.0, 0.2]        0.318531  \n",
       "87            NaN        NaN           0.68  (0.32, 0.49]        0.586161  "
      ]
     },
     "execution_count": 16,
     "metadata": {},
     "output_type": "execute_result"
    },
    {
     "data": {
      "image/png": "[encoded data removed]",
      "text/plain": [
       "<Figure size 432x288 with 1 Axes>"
      ]
     },
     "metadata": {
      "needs_background": "light"
     },
     "output_type": "display_data"
    }
   ],
   "source": [
    "#Method 2 - Substituting the conditional mean after checking for relationship between income and employment\n",
    "#The graph indicates that the employment is related to income information.  \n",
    "#The sample rows show the increased variation that can be captured due to the conditional mean calculation\n",
    "i25=np.percentile(dataset['medIncome'],25) #0.2\n",
    "i50=np.percentile(dataset['medIncome'],50) #0.32\n",
    "i75=np.percentile(dataset['medIncome'],75) #0.49\n",
    "i90=np.percentile(dataset['medIncome'],90) #0.65\n",
    "dataset['inc_buck'] = pd.cut(x=dataset['medIncome'], bins=[0,0.2,0.32,0.49,0.65])\n",
    "df_bucket=dataset.groupby(['inc_buck'])['PctEmploy'].mean().to_frame().reset_index()\n",
    "df_bucket.plot(kind='bar')\n",
    "dataset['PctEmploy_Imp2']=dataset['PctEmploy']\n",
    "dataset['PctEmploy_Imp2'][(dataset['medIncome']<=0.2) & (dataset['PctEmploy'].isnull())]=0.318531\n",
    "dataset['PctEmploy_Imp2'][(dataset['medIncome']>0.2) & (dataset['medIncome']<=0.32)&(dataset['PctEmploy'].isnull())]=0.473776\n",
    "dataset['PctEmploy_Imp2'][(dataset['medIncome']>0.32) & (dataset['medIncome']<=0.49)&(dataset['PctEmploy'].isnull())]=0.586161\n",
    "dataset['PctEmploy_Imp2'][(dataset['medIncome']>0.49)&(dataset['PctEmploy'].isnull())]=0.647704\n",
    "dataset['PctEmploy_Imp2'].fillna(0.68)\n",
    "dataset[dataset['PctEmploy_Imp2'].isnull()]\n",
    "dataset[dataset['PctEmploy'].isnull()][:5]"
   ]
  },
  {
   "cell_type": "markdown",
   "metadata": {},
   "source": [
    "##### Population, Household size and Number of urban households \n",
    "Population may be imputed from the 'PopDens', Population Density column using the conditional mean approach provided there exists a relationship. \n",
    "\n",
    "Intuitively, household size and number of urban households don't have variables which can be used to derive missing values. Hence going ahead with the median approach\n"
   ]
  },
  {
   "cell_type": "code",
   "execution_count": 18,
   "metadata": {},
   "outputs": [],
   "source": [
    "#Household size and Number of households replacement using median\n",
    "dataset['householdsize'].median #0.33\n",
    "dataset['householdsize']=dataset['householdsize'].fillna(value=0.33)\n",
    "dataset['numbUrban'].median #0.20\n",
    "dataset['numbUrban']=dataset['numbUrban'].fillna(value=0.20)"
   ]
  },
  {
   "cell_type": "code",
   "execution_count": 19,
   "metadata": {},
   "outputs": [
    {
     "name": "stderr",
     "output_type": "stream",
     "text": [
      "C:\\Users\\harit\\Anaconda2\\lib\\site-packages\\ipykernel_launcher.py:12: SettingWithCopyWarning: \n",
      "A value is trying to be set on a copy of a slice from a DataFrame\n",
      "\n",
      "See the caveats in the documentation: http://pandas.pydata.org/pandas-docs/stable/indexing.html#indexing-view-versus-copy\n",
      "  if sys.path[0] == '':\n",
      "C:\\Users\\harit\\Anaconda2\\lib\\site-packages\\ipykernel_launcher.py:13: SettingWithCopyWarning: \n",
      "A value is trying to be set on a copy of a slice from a DataFrame\n",
      "\n",
      "See the caveats in the documentation: http://pandas.pydata.org/pandas-docs/stable/indexing.html#indexing-view-versus-copy\n",
      "  del sys.path[0]\n",
      "C:\\Users\\harit\\Anaconda2\\lib\\site-packages\\ipykernel_launcher.py:14: SettingWithCopyWarning: \n",
      "A value is trying to be set on a copy of a slice from a DataFrame\n",
      "\n",
      "See the caveats in the documentation: http://pandas.pydata.org/pandas-docs/stable/indexing.html#indexing-view-versus-copy\n",
      "  \n",
      "C:\\Users\\harit\\Anaconda2\\lib\\site-packages\\ipykernel_launcher.py:15: SettingWithCopyWarning: \n",
      "A value is trying to be set on a copy of a slice from a DataFrame\n",
      "\n",
      "See the caveats in the documentation: http://pandas.pydata.org/pandas-docs/stable/indexing.html#indexing-view-versus-copy\n",
      "  from ipykernel import kernelapp as app\n"
     ]
    },
    {
     "data": {
      "text/html": [
       "<div>\n",
       "<style scoped>\n",
       "    .dataframe tbody tr th:only-of-type {\n",
       "        vertical-align: middle;\n",
       "    }\n",
       "\n",
       "    .dataframe tbody tr th {\n",
       "        vertical-align: top;\n",
       "    }\n",
       "\n",
       "    .dataframe thead th {\n",
       "        text-align: right;\n",
       "    }\n",
       "</style>\n",
       "<table border=\"1\" class=\"dataframe\">\n",
       "  <thead>\n",
       "    <tr style=\"text-align: right;\">\n",
       "      <th></th>\n",
       "      <th>ViolentCrimesPerPop</th>\n",
       "      <th>PolicBudgPerPop</th>\n",
       "      <th>population</th>\n",
       "      <th>householdsize</th>\n",
       "      <th>numbUrban</th>\n",
       "      <th>pctUrban</th>\n",
       "      <th>medIncome</th>\n",
       "      <th>perCapInc</th>\n",
       "      <th>LandArea</th>\n",
       "      <th>PopDens</th>\n",
       "      <th>PolicCars</th>\n",
       "      <th>PctUnemployed</th>\n",
       "      <th>PctEmploy</th>\n",
       "      <th>PctEmploy_Imp</th>\n",
       "      <th>inc_buck</th>\n",
       "      <th>PctEmploy_Imp2</th>\n",
       "      <th>PopDens_buck</th>\n",
       "      <th>Pop_Imp</th>\n",
       "    </tr>\n",
       "  </thead>\n",
       "  <tbody>\n",
       "    <tr>\n",
       "      <th>0</th>\n",
       "      <td>0.20</td>\n",
       "      <td>0.14</td>\n",
       "      <td>0.19</td>\n",
       "      <td>0.33</td>\n",
       "      <td>0.20</td>\n",
       "      <td>1.0</td>\n",
       "      <td>0.37</td>\n",
       "      <td>0.40</td>\n",
       "      <td>0.12</td>\n",
       "      <td>0.26</td>\n",
       "      <td>0.06</td>\n",
       "      <td>0.27</td>\n",
       "      <td>0.68</td>\n",
       "      <td>0.68</td>\n",
       "      <td>(0.32, 0.49]</td>\n",
       "      <td>0.68</td>\n",
       "      <td>(0.17, 0.28]</td>\n",
       "      <td>0.190000</td>\n",
       "    </tr>\n",
       "    <tr>\n",
       "      <th>1</th>\n",
       "      <td>0.67</td>\n",
       "      <td>NaN</td>\n",
       "      <td>0.00</td>\n",
       "      <td>0.16</td>\n",
       "      <td>0.02</td>\n",
       "      <td>1.0</td>\n",
       "      <td>0.31</td>\n",
       "      <td>0.37</td>\n",
       "      <td>0.02</td>\n",
       "      <td>0.12</td>\n",
       "      <td>NaN</td>\n",
       "      <td>0.27</td>\n",
       "      <td>0.73</td>\n",
       "      <td>0.73</td>\n",
       "      <td>(0.2, 0.32]</td>\n",
       "      <td>0.73</td>\n",
       "      <td>(0.1, 0.17]</td>\n",
       "      <td>0.000000</td>\n",
       "    </tr>\n",
       "    <tr>\n",
       "      <th>2</th>\n",
       "      <td>0.43</td>\n",
       "      <td>NaN</td>\n",
       "      <td>NaN</td>\n",
       "      <td>0.42</td>\n",
       "      <td>0.00</td>\n",
       "      <td>0.0</td>\n",
       "      <td>0.30</td>\n",
       "      <td>0.27</td>\n",
       "      <td>0.01</td>\n",
       "      <td>0.21</td>\n",
       "      <td>NaN</td>\n",
       "      <td>0.36</td>\n",
       "      <td>0.58</td>\n",
       "      <td>0.58</td>\n",
       "      <td>(0.2, 0.32]</td>\n",
       "      <td>0.58</td>\n",
       "      <td>(0.17, 0.28]</td>\n",
       "      <td>0.074111</td>\n",
       "    </tr>\n",
       "    <tr>\n",
       "      <th>3</th>\n",
       "      <td>0.12</td>\n",
       "      <td>NaN</td>\n",
       "      <td>0.04</td>\n",
       "      <td>0.77</td>\n",
       "      <td>0.06</td>\n",
       "      <td>1.0</td>\n",
       "      <td>0.58</td>\n",
       "      <td>0.36</td>\n",
       "      <td>0.02</td>\n",
       "      <td>0.39</td>\n",
       "      <td>NaN</td>\n",
       "      <td>0.33</td>\n",
       "      <td>0.71</td>\n",
       "      <td>0.71</td>\n",
       "      <td>(0.49, 0.65]</td>\n",
       "      <td>0.71</td>\n",
       "      <td>(0.28, 0.49]</td>\n",
       "      <td>0.040000</td>\n",
       "    </tr>\n",
       "    <tr>\n",
       "      <th>4</th>\n",
       "      <td>0.03</td>\n",
       "      <td>NaN</td>\n",
       "      <td>0.01</td>\n",
       "      <td>0.55</td>\n",
       "      <td>0.02</td>\n",
       "      <td>0.9</td>\n",
       "      <td>0.50</td>\n",
       "      <td>0.43</td>\n",
       "      <td>0.04</td>\n",
       "      <td>0.09</td>\n",
       "      <td>NaN</td>\n",
       "      <td>0.12</td>\n",
       "      <td>0.65</td>\n",
       "      <td>0.65</td>\n",
       "      <td>(0.49, 0.65]</td>\n",
       "      <td>0.65</td>\n",
       "      <td>(0.0, 0.1]</td>\n",
       "      <td>0.010000</td>\n",
       "    </tr>\n",
       "  </tbody>\n",
       "</table>\n",
       "</div>"
      ],
      "text/plain": [
       "   ViolentCrimesPerPop  PolicBudgPerPop  population  householdsize  numbUrban  \\\n",
       "0                 0.20             0.14        0.19           0.33       0.20   \n",
       "1                 0.67              NaN        0.00           0.16       0.02   \n",
       "2                 0.43              NaN         NaN           0.42       0.00   \n",
       "3                 0.12              NaN        0.04           0.77       0.06   \n",
       "4                 0.03              NaN        0.01           0.55       0.02   \n",
       "\n",
       "   pctUrban  medIncome  perCapInc  LandArea  PopDens  PolicCars  \\\n",
       "0       1.0       0.37       0.40      0.12     0.26       0.06   \n",
       "1       1.0       0.31       0.37      0.02     0.12        NaN   \n",
       "2       0.0       0.30       0.27      0.01     0.21        NaN   \n",
       "3       1.0       0.58       0.36      0.02     0.39        NaN   \n",
       "4       0.9       0.50       0.43      0.04     0.09        NaN   \n",
       "\n",
       "   PctUnemployed  PctEmploy  PctEmploy_Imp      inc_buck  PctEmploy_Imp2  \\\n",
       "0           0.27       0.68           0.68  (0.32, 0.49]            0.68   \n",
       "1           0.27       0.73           0.73   (0.2, 0.32]            0.73   \n",
       "2           0.36       0.58           0.58   (0.2, 0.32]            0.58   \n",
       "3           0.33       0.71           0.71  (0.49, 0.65]            0.71   \n",
       "4           0.12       0.65           0.65  (0.49, 0.65]            0.65   \n",
       "\n",
       "   PopDens_buck   Pop_Imp  \n",
       "0  (0.17, 0.28]  0.190000  \n",
       "1   (0.1, 0.17]  0.000000  \n",
       "2  (0.17, 0.28]  0.074111  \n",
       "3  (0.28, 0.49]  0.040000  \n",
       "4    (0.0, 0.1]  0.010000  "
      ]
     },
     "execution_count": 19,
     "metadata": {},
     "output_type": "execute_result"
    },
    {
     "data": {
      "image/png": "[encoded data removed]",
      "text/plain": [
       "<Figure size 432x288 with 1 Axes>"
      ]
     },
     "metadata": {
      "needs_background": "light"
     },
     "output_type": "display_data"
    }
   ],
   "source": [
    "#Population: Relationship between population and population density\n",
    "i25=np.percentile(dataset['PopDens'],25) #0.1\n",
    "i50=np.percentile(dataset['PopDens'],50) #0.17\n",
    "i75=np.percentile(dataset['PopDens'],75) #0.28\n",
    "i90=np.percentile(dataset['PopDens'],90) #0.49\n",
    "dataset['PopDens_buck'] = pd.cut(x=dataset['PopDens'], bins=[0,0.1,0.17,0.28,0.49])\n",
    "df_bucket1=dataset.groupby(['PopDens_buck'])['population'].mean().to_frame().reset_index()\n",
    "df_bucket1.plot(kind='bar')\n",
    "df_bucket1 \n",
    "\n",
    "dataset['Pop_Imp']=dataset['population']\n",
    "dataset['Pop_Imp'][(dataset['PopDens']<=0.1) & (dataset['population'].isnull())]=0.022957\n",
    "dataset['Pop_Imp'][(dataset['PopDens']>0.1) & (dataset['PopDens']<=0.17)&(dataset['population'].isnull())]=0.043507\n",
    "dataset['Pop_Imp'][(dataset['PopDens']>0.17) & (dataset['PopDens']<=0.28)&(dataset['population'].isnull())]=0.074111\n",
    "dataset['Pop_Imp'][(dataset['PopDens']>0.28)&(dataset['population'].isnull())]=0.066208\n",
    "dataset['Pop_Imp'].fillna(0.19)\n",
    "dataset[:5]"
   ]
  },
  {
   "cell_type": "markdown",
   "metadata": {},
   "source": [
    "###### PoliceBudgPerPop and PolicCars\n",
    "PoliceBudgPerPop and PolicCars - Ideally, we can ignore these two columns and not consider them for analysis because of the 2 following reasons: \n",
    "\n",
    "(i) They have 84% missing data. 16% is very less coverage and cannot be expected to capture variability in the data\n",
    "\n",
    "(ii) It is information about police cars / #police which cannot be derived from any other columns in the dataset, as the other columns contain information about demographics of the city/region.  \n",
    "\n",
    "BUT, we are still trying to impute the variable using a regression model over rest of the independent variables. As seen below, it doesn't yield any benefit (expected). \n",
    "\n",
    "However, using the median approach to impute this variable and not ignoring it since the available information is anyway less. Using model performance as an evaluation parameter, not ignoring these variables provides a better accuracy. "
   ]
  },
  {
   "cell_type": "code",
   "execution_count": 20,
   "metadata": {},
   "outputs": [
    {
     "name": "stdout",
     "output_type": "stream",
     "text": [
      "max of prediction 0.48519770360321396\n",
      "min of prediction 0.06095510113909792\n"
     ]
    },
    {
     "data": {
      "text/plain": [
       "0.22497626475486301"
      ]
     },
     "execution_count": 20,
     "metadata": {},
     "output_type": "execute_result"
    }
   ],
   "source": [
    "from sklearn import neighbors\n",
    "Xf = dataset.drop(['ViolentCrimesPerPop','PopDens_buck','inc_buck','population','PctEmploy','PctEmploy_Imp'],axis=1)\n",
    "Xf['PctUnemployed'].median #0.27\n",
    "Xf['PolicBudgPerPop'].median #0.14\n",
    "Xf['PolicCars'].median #0.06\n",
    "Xf['PctUnemployed']=Xf['PctUnemployed'].fillna(0.27)\n",
    "Xf['PolicBudgPerPop']=Xf['PolicBudgPerPop'].fillna(0.14)\n",
    "Xf['PolicCars']=Xf['PolicCars'].fillna(0.06)\n",
    "Xp=Xf\n",
    "Xp['police']=dataset['PolicBudgPerPop']\n",
    "Xp1=Xp[Xp['police'].notnull()]\n",
    "Yp=Xp1['police']\n",
    "Xp2=Xp1.drop(['police'],axis=1)\n",
    "\n",
    "regp=linear_model.LinearRegression()\n",
    "police=regp.fit(Xp2,Yp)\n",
    "Xp3=Xp[Xp['police'].isnull()]\n",
    "Xp4=Xp3.drop(['police'],axis=1)\n",
    "pol_pred=police.predict(Xp4)\n",
    "\n",
    "knn = neighbors.KNeighborsRegressor(5, weights='distance')\n",
    "pol_pred_new = knn.fit(Xp2,Yp).predict(Xp4)\n",
    "\n",
    "print ('max of prediction ' + str(max(pol_pred_new )))\n",
    "print ('min of prediction ' + str(min(pol_pred_new )))\n",
    "mean(pol_pred_new)"
   ]
  },
  {
   "cell_type": "markdown",
   "metadata": {},
   "source": [
    "##### Pre and Post treatment Accuracy comparison\n",
    "Since the 'pre treatment' model will throw an error because of NaNs, using the brute force method as the 'pre treatment'.\n",
    "\n",
    "That is, using the 'mean' of every column as a substitute"
   ]
  },
  {
   "cell_type": "code",
   "execution_count": 21,
   "metadata": {},
   "outputs": [
    {
     "name": "stdout",
     "output_type": "stream",
     "text": [
      "Mean squared error after pre-processing:0.031431954172562795\n",
      "Mean squared error before pre-processing:0.0358068427786044\n"
     ]
    },
    {
     "data": {
      "image/png": "[encoded data removed]",
      "text/plain": [
       "<Figure size 432x288 with 2 Axes>"
      ]
     },
     "metadata": {
      "needs_background": "light"
     },
     "output_type": "display_data"
    }
   ],
   "source": [
    "#Model with pre-processed data\n",
    "dataset1=dataset[dataset['PctEmploy'].notnull()]\n",
    "Xft = dataset1.drop(['ViolentCrimesPerPop','PopDens_buck','inc_buck','population','PctEmploy','PctEmploy_Imp'],axis=1)\n",
    "#Xft=Xf[Xf['Pct'].notnull()]\n",
    "#Xf['PctUnemployed'].median #0.27\n",
    "#Xft['PolicBudgPerPop'].median #0.14\n",
    "#Xft['PolicCars'].median #0.06\n",
    "#Xf['PctUnemployed']=Xf['PctUnemployed'].fillna(0.27)\n",
    "Xft['PolicBudgPerPop']=Xf['PolicBudgPerPop'].fillna(0.14)\n",
    "Xft['PolicCars']=Xf['PolicCars'].fillna(0.06)\n",
    "\n",
    "Corr=Xf.corr()\n",
    "import seaborn as sns\n",
    "sns.heatmap(Corr)\n",
    "\n",
    "Yft = dataset[dataset['PctUnemployed'].notnull()]['ViolentCrimesPerPop']\n",
    "\n",
    "Xf_train, Xf_test, Yf_train, Yf_test = train_test_split(Xft,Yft,test_size = 0.30, random_state=11)\n",
    "regf = linear_model.LinearRegression()\n",
    "preproc = reg.fit(Xf_train,Yf_train)\n",
    "Yf_pred=preproc.predict(Xf_test)\n",
    "print ('Mean squared error after pre-processing:' + str(mean_squared_error(Yf_pred,Yf_test)))\n",
    "\n",
    "#Model without pre-processed data (using brute force 'mean' approach as the code throws an error with NaNs) \n",
    "df = pd.read_csv('q3_dataset.csv')\n",
    "df['population'].mean() #0.056\n",
    "df['population']=df['population'].fillna(0.056)\n",
    "df['PctEmploy'].mean() #0.501\n",
    "df['PctEmploy']=df['PctEmploy'].fillna(0.501)\n",
    "df['PolicBudgPerPop'].mean() #0.374\n",
    "df['PolicBudgPerPop']=df['PolicBudgPerPop'].fillna(0.374)\n",
    "df['PolicCars'].mean() #0.163\n",
    "df['PolicCars']=df['PolicCars'].fillna(0.163)\n",
    "df['householdsize'].mean() #0.464\n",
    "df['householdsize']=df['householdsize'].fillna(0.464)\n",
    "df['numbUrban'].mean() #0.066\n",
    "df['numbUrban']=df['numbUrban'].fillna(0.066)\n",
    "df['PctUnemployed'].mean() #0.363\n",
    "df['PctUnemployed']=df['PctUnemployed'].fillna(0.363)\n",
    "\n",
    "Xb = df.drop(['ViolentCrimesPerPop'],axis=1)\n",
    "Yb = df['ViolentCrimesPerPop']\n",
    "Xb_train, Xb_test, Yb_train, Yb_test = train_test_split(Xb,Yb,test_size = 0.30, random_state=11)\n",
    "regb = linear_model.LinearRegression()\n",
    "preprocb = reg.fit(Xb_train,Yb_train)\n",
    "Yb_pred=preprocb.predict(Xb_test)\n",
    "print ('Mean squared error before pre-processing:' + str(mean_squared_error(Yb_pred,Yb_test)))"
   ]
  },
  {
   "cell_type": "markdown",
   "metadata": {},
   "source": [
    "###### The MSE has come down marginally after pre-processing. But here both the approaches have some form of pre-processing. This just goes to prove that there can be improvements (though marginal) when missing data is carefully treated on a case to case basis. The difference will be appreciated more in larger datasets, with more information, and more missing data. "
   ]
  },
  {
   "cell_type": "markdown",
   "metadata": {},
   "source": [
    "# Question 4. PCA (conceptual) (5pts)"
   ]
  },
  {
   "cell_type": "markdown",
   "metadata": {},
   "source": [
    "True of False : The goal of PCA is to create a lower-dimensional representation with principal components that are best at predicting the output variable.\n",
    "Justify your answer"
   ]
  },
  {
   "cell_type": "markdown",
   "metadata": {},
   "source": [
    "Answer: False. PCA creates linear components of the p-dimensions in the dataset by retaining the maximum possible variance in the individual dimensions, preserving the orthogonality thereby reducing multicollinearity in the data. \n",
    "\n",
    "The lowering of multicollinearity, may lead to a better prediction of the output variable, where PCA is used as a pre-processing step for regression. \n",
    "\n",
    "Since PCA is unsupervised, it is just focused on reconstruction of the dimensions than maximizing the accuracy of prediction post that."
   ]
  }
 ],
 "metadata": {
  "kernelspec": {
   "display_name": "Python 2",
   "language": "python",
   "name": "python2"
  },
  "language_info": {
   "codemirror_mode": {
    "name": "ipython",
    "version": 2
   },
   "file_extension": ".py",
   "mimetype": "text/x-python",
   "name": "python",
   "nbconvert_exporter": "python",
   "pygments_lexer": "ipython2",
   "version": "2.7.16"
  }
 },
 "nbformat": 4,
 "nbformat_minor": 1
}
